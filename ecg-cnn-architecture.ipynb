{
 "cells": [
  {
   "cell_type": "code",
   "execution_count": 1,
   "id": "d3e11cf5",
   "metadata": {
    "_cell_guid": "b1076dfc-b9ad-4769-8c92-a6c4dae69d19",
    "_uuid": "8f2839f25d086af736a60e9eeb907d3b93b6e0e5",
    "execution": {
     "iopub.execute_input": "2025-09-24T02:49:10.829723Z",
     "iopub.status.busy": "2025-09-24T02:49:10.829327Z",
     "iopub.status.idle": "2025-09-24T02:49:16.922272Z",
     "shell.execute_reply": "2025-09-24T02:49:16.921337Z"
    },
    "papermill": {
     "duration": 6.098713,
     "end_time": "2025-09-24T02:49:16.924031",
     "exception": false,
     "start_time": "2025-09-24T02:49:10.825318",
     "status": "completed"
    },
    "tags": []
   },
   "outputs": [],
   "source": [
    "import numpy as np \n",
    "import pandas as pd \n",
    "import matplotlib.pyplot as plt\n",
    "import glob\n",
    "from pathlib import Path\n",
    "import torch.nn as nn\n",
    "import torch.optim as optim\n",
    "import torch\n",
    "import torch.nn.functional as F"
   ]
  },
  {
   "cell_type": "code",
   "execution_count": 2,
   "id": "7b27b6dd",
   "metadata": {
    "execution": {
     "iopub.execute_input": "2025-09-24T02:49:16.930235Z",
     "iopub.status.busy": "2025-09-24T02:49:16.929760Z",
     "iopub.status.idle": "2025-09-24T02:49:16.938145Z",
     "shell.execute_reply": "2025-09-24T02:49:16.937091Z"
    },
    "papermill": {
     "duration": 0.012954,
     "end_time": "2025-09-24T02:49:16.939704",
     "exception": false,
     "start_time": "2025-09-24T02:49:16.926750",
     "status": "completed"
    },
    "tags": []
   },
   "outputs": [],
   "source": [
    "class BasicBlock1D(nn.Module):\n",
    "    def __init__(self, in_channels, out_channels, stride=1, kernel_size=7):\n",
    "        super(BasicBlock1D, self).__init__()\n",
    "        padding =  (kernel_size - 1) // 2\n",
    "        self.conv1 = nn.Conv1d(in_channels, out_channels, kernel_size=kernel_size,\n",
    "                               stride=stride, padding=padding, bias=False)\n",
    "        self.bn1 = nn.BatchNorm1d(out_channels)\n",
    "        self.relu = nn.ReLU(inplace=True)\n",
    "        self.conv2 = nn.Conv1d(out_channels, out_channels, kernel_size=kernel_size,\n",
    "                               stride=1, padding=padding, bias=False)\n",
    "        self.bn2 = nn.BatchNorm1d(out_channels)\n",
    "        self.downsample=False\n",
    "        if in_channels != out_channels or stride != 1:\n",
    "            self.skip = nn.Conv1d(in_channels, out_channels, 1, stride=stride)\n",
    "            self.downsample=True\n",
    "\n",
    "    def forward(self, x):\n",
    "        identity = x\n",
    "\n",
    "        out = self.conv1(x)\n",
    "        out = self.bn1(out)\n",
    "        out = self.relu(out)\n",
    "        out = self.conv2(out)\n",
    "        out = self.bn2(out)\n",
    "\n",
    "        if self.downsample==True:\n",
    "            identity = self.skip(identity)\n",
    "        \n",
    "        out += identity\n",
    "        out = self.relu(out)\n",
    "\n",
    "        return out"
   ]
  },
  {
   "cell_type": "code",
   "execution_count": 3,
   "id": "d52c8d62",
   "metadata": {
    "execution": {
     "iopub.execute_input": "2025-09-24T02:49:16.945088Z",
     "iopub.status.busy": "2025-09-24T02:49:16.944787Z",
     "iopub.status.idle": "2025-09-24T02:49:16.949414Z",
     "shell.execute_reply": "2025-09-24T02:49:16.948526Z"
    },
    "papermill": {
     "duration": 0.00876,
     "end_time": "2025-09-24T02:49:16.950695",
     "exception": false,
     "start_time": "2025-09-24T02:49:16.941935",
     "status": "completed"
    },
    "tags": []
   },
   "outputs": [],
   "source": [
    "def output_conv_size(width, kernel, padding, stride):\n",
    "    return (width - kernel + 2 * padding) / stride + 1"
   ]
  },
  {
   "cell_type": "code",
   "execution_count": 4,
   "id": "9acb749c",
   "metadata": {
    "execution": {
     "iopub.execute_input": "2025-09-24T02:49:16.956141Z",
     "iopub.status.busy": "2025-09-24T02:49:16.955845Z",
     "iopub.status.idle": "2025-09-24T02:49:16.970358Z",
     "shell.execute_reply": "2025-09-24T02:49:16.969513Z"
    },
    "papermill": {
     "duration": 0.019228,
     "end_time": "2025-09-24T02:49:16.972001",
     "exception": false,
     "start_time": "2025-09-24T02:49:16.952773",
     "status": "completed"
    },
    "tags": []
   },
   "outputs": [],
   "source": [
    "\n",
    "class ResNet1D(nn.Module):\n",
    "    def __init__(self, block, layers, num_classes=5, input_channels=12, \n",
    "                 initial_filters=64, kernel_size=7):\n",
    "        \"\"\"\n",
    "        1D ResNet for ECG classification\n",
    "        \n",
    "        Args:\n",
    "            block: BasicBlock1D class\n",
    "            layers: list of integers, number of blocks in each layer\n",
    "            num_classes: number of output classes\n",
    "            input_channels: number of input channels (12 for 12-lead ECG)\n",
    "            initial_filters: number of filters in the first conv layer\n",
    "            kernel_size: kernel size for convolutions\n",
    "        \"\"\"\n",
    "        super(ResNet1D, self).__init__()\n",
    "        self.in_channels = initial_filters\n",
    "        self.kernel_size = kernel_size\n",
    "        \n",
    "        # Initial convolution layer\n",
    "        self.conv1 = nn.Conv1d(input_channels, initial_filters, \n",
    "                              kernel_size=15, stride=2, padding=7, bias=False)\n",
    "        self.bn1 = nn.BatchNorm1d(initial_filters)\n",
    "        self.relu = nn.ReLU(inplace=True)\n",
    "        self.maxpool = nn.MaxPool1d(kernel_size=3, stride=2, padding=1)\n",
    "        \n",
    "        # Residual layers\n",
    "        self.layer1 = self._make_layer(block, initial_filters, layers[0], stride=1)\n",
    "        self.layer2 = self._make_layer(block, initial_filters*2, layers[1], stride=2)\n",
    "        self.layer3 = self._make_layer(block, initial_filters*4, layers[2], stride=2)\n",
    "        self.layer4 = self._make_layer(block, initial_filters*8, layers[3], stride=2)\n",
    "        \n",
    "        # Global average pooling and classifier\n",
    "        self.avgpool = nn.AdaptiveAvgPool1d(1)\n",
    "        self.fc = nn.Linear(initial_filters*8, num_classes)\n",
    "        \n",
    "        # Initialize weights\n",
    "        self._initialize_weights()\n",
    "    \n",
    "    def _make_layer(self, block, out_channels, blocks, stride=1):\n",
    "        layers = []\n",
    "        # First block may need downsampling\n",
    "        layers.append(block(self.in_channels, out_channels, stride, self.kernel_size))\n",
    "        self.in_channels = out_channels\n",
    "        \n",
    "        # Remaining blocks\n",
    "        for _ in range(1, blocks):\n",
    "            layers.append(block(out_channels, out_channels, 1, self.kernel_size))\n",
    "        \n",
    "        return nn.Sequential(*layers)\n",
    "    \n",
    "    def _initialize_weights(self):\n",
    "        for m in self.modules():\n",
    "            if isinstance(m, nn.Conv1d):\n",
    "                nn.init.kaiming_normal_(m.weight, mode='fan_out', nonlinearity='relu')\n",
    "            elif isinstance(m, nn.BatchNorm1d):\n",
    "                nn.init.constant_(m.weight, 1)\n",
    "                nn.init.constant_(m.bias, 0)\n",
    "            elif isinstance(m, nn.Linear):\n",
    "                nn.init.normal_(m.weight, 0, 0.01)\n",
    "                nn.init.constant_(m.bias, 0)\n",
    "    \n",
    "    def forward(self, x):\n",
    "        # Initial layers\n",
    "        x = self.conv1(x)\n",
    "        x = self.bn1(x)\n",
    "        x = self.relu(x)\n",
    "        x = self.maxpool(x)\n",
    "        \n",
    "        # Residual layers\n",
    "        x = self.layer1(x)\n",
    "        x = self.layer2(x)\n",
    "        x = self.layer3(x)\n",
    "        x = self.layer4(x)\n",
    "        \n",
    "        # Global pooling and classification\n",
    "        x = self.avgpool(x)\n",
    "        x = torch.flatten(x, 1)\n",
    "        x = self.fc(x)\n",
    "        \n",
    "        return x\n",
    "\n",
    "\n",
    "# Model factory functions\n",
    "def resnet18_1d(num_classes=5, input_channels=12):\n",
    "    \"\"\"ResNet-18 1D variant\"\"\"\n",
    "    return ResNet1D(BasicBlock1D, [2, 2, 2, 2], num_classes, input_channels)\n",
    "\n",
    "def resnet34_1d(num_classes=5, input_channels=12):\n",
    "    \"\"\"ResNet-34 1D variant\"\"\"\n",
    "    return ResNet1D(BasicBlock1D, [3, 4, 6, 3], num_classes, input_channels)\n",
    "\n",
    "def resnet50_1d(num_classes=5, input_channels=12):\n",
    "    \"\"\"ResNet-50 1D variant (using BasicBlock instead of Bottleneck)\"\"\"\n",
    "    return ResNet1D(BasicBlock1D, [3, 4, 6, 3], num_classes, input_channels, initial_filters=64)\n"
   ]
  },
  {
   "cell_type": "code",
   "execution_count": null,
   "id": "ffad8ac0",
   "metadata": {
    "execution": {
     "iopub.execute_input": "2025-09-21T06:57:59.812780Z",
     "iopub.status.busy": "2025-09-21T06:57:59.812312Z",
     "iopub.status.idle": "2025-09-21T06:57:59.864402Z",
     "shell.execute_reply": "2025-09-21T06:57:59.863337Z",
     "shell.execute_reply.started": "2025-09-21T06:57:59.812740Z"
    },
    "papermill": {
     "duration": 0.00174,
     "end_time": "2025-09-24T02:49:16.975869",
     "exception": false,
     "start_time": "2025-09-24T02:49:16.974129",
     "status": "completed"
    },
    "tags": []
   },
   "outputs": [],
   "source": []
  },
  {
   "cell_type": "code",
   "execution_count": null,
   "id": "a5c878a0",
   "metadata": {
    "papermill": {
     "duration": 0.001722,
     "end_time": "2025-09-24T02:49:16.979413",
     "exception": false,
     "start_time": "2025-09-24T02:49:16.977691",
     "status": "completed"
    },
    "tags": []
   },
   "outputs": [],
   "source": []
  }
 ],
 "metadata": {
  "kaggle": {
   "accelerator": "none",
   "dataSources": [],
   "dockerImageVersionId": 31089,
   "isGpuEnabled": false,
   "isInternetEnabled": true,
   "language": "python",
   "sourceType": "notebook"
  },
  "kernelspec": {
   "display_name": "Python 3",
   "language": "python",
   "name": "python3"
  },
  "language_info": {
   "codemirror_mode": {
    "name": "ipython",
    "version": 3
   },
   "file_extension": ".py",
   "mimetype": "text/x-python",
   "name": "python",
   "nbconvert_exporter": "python",
   "pygments_lexer": "ipython3",
   "version": "3.11.13"
  },
  "papermill": {
   "default_parameters": {},
   "duration": 12.358385,
   "end_time": "2025-09-24T02:49:18.404616",
   "environment_variables": {},
   "exception": null,
   "input_path": "__notebook__.ipynb",
   "output_path": "__notebook__.ipynb",
   "parameters": {},
   "start_time": "2025-09-24T02:49:06.046231",
   "version": "2.6.0"
  }
 },
 "nbformat": 4,
 "nbformat_minor": 5
}
